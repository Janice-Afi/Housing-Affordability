{
 "cells": [
  {
   "cell_type": "code",
   "execution_count": 1,
   "id": "73898b7a",
   "metadata": {},
   "outputs": [],
   "source": [
    "from bs4 import BeautifulSoup\n",
    "import requests\n",
    "import pandas as pd\n",
    "import matplotlib.pyplot as plt\n",
    "import seaborn as sns\n",
    "import plotly.express as px              ### To create interactive plots in python\n",
    "import chart_studio\n",
    "username ='janice.gbedemah'              ### An account needs to be created online to retrieve API keys\n",
    "api_key = '7fuMphA2ExbPtpp9j3Bv'\n",
    "chart_studio.tools.set_credentials_file(username=username,api_key=api_key)\n",
    "import chart_studio.plotly as py\n",
    "import chart_studio.tools as tls"
   ]
  },
  {
   "cell_type": "code",
   "execution_count": 2,
   "id": "49d01bc5",
   "metadata": {},
   "outputs": [],
   "source": [
    "alberta_data = {'address':[], 'bedroom': [], 'bathroom':[], 'price':[]}\n",
    "ontario_data = {'address':[], 'bedroom': [], 'bathroom':[], 'price':[]}\n",
    "BC_data = {'address':[], 'bedroom': [], 'bathroom':[], 'price':[]}"
   ]
  },
  {
   "cell_type": "code",
   "execution_count": 3,
   "id": "3e87652a",
   "metadata": {},
   "outputs": [
    {
     "data": {
      "text/html": [
       "<div>\n",
       "<style scoped>\n",
       "    .dataframe tbody tr th:only-of-type {\n",
       "        vertical-align: middle;\n",
       "    }\n",
       "\n",
       "    .dataframe tbody tr th {\n",
       "        vertical-align: top;\n",
       "    }\n",
       "\n",
       "    .dataframe thead th {\n",
       "        text-align: right;\n",
       "    }\n",
       "</style>\n",
       "<table border=\"1\" class=\"dataframe\">\n",
       "  <thead>\n",
       "    <tr style=\"text-align: right;\">\n",
       "      <th></th>\n",
       "      <th>address</th>\n",
       "      <th>bedroom</th>\n",
       "      <th>bathroom</th>\n",
       "      <th>price</th>\n",
       "    </tr>\n",
       "  </thead>\n",
       "  <tbody>\n",
       "    <tr>\n",
       "      <th>0</th>\n",
       "      <td>618 5 Avenue ...</td>\n",
       "      <td>1 Bed</td>\n",
       "      <td>1 Bath</td>\n",
       "      <td>$1,399 CA...</td>\n",
       "    </tr>\n",
       "    <tr>\n",
       "      <th>1</th>\n",
       "      <td>9721 92 Ave.,...</td>\n",
       "      <td>1 Bed</td>\n",
       "      <td>1 Bath</td>\n",
       "      <td>$999 CAD ...</td>\n",
       "    </tr>\n",
       "    <tr>\n",
       "      <th>2</th>\n",
       "      <td>10717 107 Str...</td>\n",
       "      <td>Studio</td>\n",
       "      <td>1 Bath</td>\n",
       "      <td>$699 CAD ...</td>\n",
       "    </tr>\n",
       "    <tr>\n",
       "      <th>3</th>\n",
       "      <td>6707 Elbow Dr...</td>\n",
       "      <td>Studio</td>\n",
       "      <td>1 Bath</td>\n",
       "      <td>$1,050 CA...</td>\n",
       "    </tr>\n",
       "    <tr>\n",
       "      <th>4</th>\n",
       "      <td>3011 James Mo...</td>\n",
       "      <td>2 Beds</td>\n",
       "      <td>2 Baths</td>\n",
       "      <td>$1,429 CA...</td>\n",
       "    </tr>\n",
       "  </tbody>\n",
       "</table>\n",
       "</div>"
      ],
      "text/plain": [
       "                                             address   bedroom  bathroom  \\\n",
       "0                                   618 5 Avenue ...    1 Bed     1 Bath   \n",
       "1                                   9721 92 Ave.,...    1 Bed     1 Bath   \n",
       "2                                   10717 107 Str...   Studio     1 Bath   \n",
       "3                                   6707 Elbow Dr...   Studio     1 Bath   \n",
       "4                                   3011 James Mo...   2 Beds    2 Baths   \n",
       "\n",
       "                                               price  \n",
       "0                                       $1,399 CA...  \n",
       "1                                       $999 CAD ...  \n",
       "2                                       $699 CAD ...  \n",
       "3                                       $1,050 CA...  \n",
       "4                                       $1,429 CA...  "
      ]
     },
     "execution_count": 3,
     "metadata": {},
     "output_type": "execute_result"
    }
   ],
   "source": [
    "## SCRAPING LISTINGS IN ALBERTA\n",
    "for i in range(1,54):         ## TO loop through all the url pages from page 1 to 53\n",
    "    url='https://apartmentlove.com/apartments-for-rent/alberta/canada/apartment/page'+str(i)\n",
    "    page = requests.get(url) ## requesting to have access/connection to that page from the url\n",
    "    soup = BeautifulSoup(page.content, 'html.parser') ## used to parse the html imformation from that page\n",
    "    lists = soup.find_all('div', class_=\"property-details\")## The parent class for all the information for each listing\n",
    "    for list in lists:\n",
    "        address = list.find('div', class_='property-details-heading').h3.a.text.replace(\"\\n\",\" \")\n",
    "        bedroom = list.find('ul', class_='d-flex').li.text.replace(\"\\n\",\" \")\n",
    "        bathroom = list.find('i', class_='bath-icon').next_sibling ## to extract the first string/text next to a tag/element \n",
    "        price = list.find('span', class_='price-text').text.replace(\"\\n\",\" \")\n",
    "        if address:\n",
    "            alberta_data['address'].append(address)\n",
    "        if bedroom:\n",
    "            alberta_data['bedroom'].append(bedroom)\n",
    "        if bathroom:\n",
    "            alberta_data['bathroom'].append(bathroom)\n",
    "        if price:\n",
    "            alberta_data['price'].append(price) \n",
    "alberta = pd.DataFrame(alberta_data)\n",
    "alberta.head(5)"
   ]
  },
  {
   "cell_type": "code",
   "execution_count": 5,
   "id": "0f540caa",
   "metadata": {},
   "outputs": [
    {
     "data": {
      "text/html": [
       "<div>\n",
       "<style scoped>\n",
       "    .dataframe tbody tr th:only-of-type {\n",
       "        vertical-align: middle;\n",
       "    }\n",
       "\n",
       "    .dataframe tbody tr th {\n",
       "        vertical-align: top;\n",
       "    }\n",
       "\n",
       "    .dataframe thead th {\n",
       "        text-align: right;\n",
       "    }\n",
       "</style>\n",
       "<table border=\"1\" class=\"dataframe\">\n",
       "  <thead>\n",
       "    <tr style=\"text-align: right;\">\n",
       "      <th></th>\n",
       "      <th>address</th>\n",
       "      <th>bedroom</th>\n",
       "      <th>bathroom</th>\n",
       "      <th>price</th>\n",
       "    </tr>\n",
       "  </thead>\n",
       "  <tbody>\n",
       "    <tr>\n",
       "      <th>0</th>\n",
       "      <td>185 Lyon Stre...</td>\n",
       "      <td>1 Bed</td>\n",
       "      <td>1 Bath</td>\n",
       "      <td>$1,900 CA...</td>\n",
       "    </tr>\n",
       "    <tr>\n",
       "      <th>1</th>\n",
       "      <td>50 Prince Art...</td>\n",
       "      <td>1 Bed</td>\n",
       "      <td>1 Bath</td>\n",
       "      <td>$1,800 CA...</td>\n",
       "    </tr>\n",
       "    <tr>\n",
       "      <th>2</th>\n",
       "      <td>2 Quebec Stre...</td>\n",
       "      <td>1 Bed</td>\n",
       "      <td>1 Bath</td>\n",
       "      <td>$1,580 CA...</td>\n",
       "    </tr>\n",
       "    <tr>\n",
       "      <th>3</th>\n",
       "      <td>Klaskamp, Han...</td>\n",
       "      <td>1 Bed</td>\n",
       "      <td>1 Bath</td>\n",
       "      <td>$980 CAD ...</td>\n",
       "    </tr>\n",
       "    <tr>\n",
       "      <th>4</th>\n",
       "      <td>60 Conway Dr....</td>\n",
       "      <td>1 Bed</td>\n",
       "      <td>1 Bath</td>\n",
       "      <td>$1,359 CA...</td>\n",
       "    </tr>\n",
       "  </tbody>\n",
       "</table>\n",
       "</div>"
      ],
      "text/plain": [
       "                                             address  bedroom bathroom  \\\n",
       "0                                   185 Lyon Stre...   1 Bed    1 Bath   \n",
       "1                                   50 Prince Art...   1 Bed    1 Bath   \n",
       "2                                   2 Quebec Stre...   1 Bed    1 Bath   \n",
       "3                                   Klaskamp, Han...   1 Bed    1 Bath   \n",
       "4                                   60 Conway Dr....   1 Bed    1 Bath   \n",
       "\n",
       "                                               price  \n",
       "0                                       $1,900 CA...  \n",
       "1                                       $1,800 CA...  \n",
       "2                                       $1,580 CA...  \n",
       "3                                       $980 CAD ...  \n",
       "4                                       $1,359 CA...  "
      ]
     },
     "execution_count": 5,
     "metadata": {},
     "output_type": "execute_result"
    }
   ],
   "source": [
    "## SCRAPING LISTINGS IN ONTARIO\n",
    "for j in range(1,9):\n",
    "    url2 = 'https://apartmentlove.com/apartments-for-rent/ontario/canada/apartment/page'+str(j)\n",
    "    page2 = requests.get(url2)\n",
    "    soup2 = BeautifulSoup(page2.content, \"html.parser\")\n",
    "    lists2 = soup2.find_all('div', class_=\"property-details\")\n",
    "    for list in lists2:\n",
    "        address2 = list.find('div', class_='property-details-heading').h3.a.text.replace(\"\\n\",\" \")\n",
    "        bedroom2 = list.find('ul', class_='d-flex').li.text.replace(\"\\n\",\" \")\n",
    "        bathroom2= list.find('i', class_='bath-icon').next_sibling ## to extract the first string/text next to a tag/element \n",
    "        price2 = list.find('span', class_='price-text').text.replace(\"\\n\",\" \")\n",
    "        if address2:\n",
    "            ontario_data['address'].append(address2)\n",
    "        if bedroom:\n",
    "            ontario_data['bedroom'].append(bedroom2)\n",
    "        if bathroom:\n",
    "            ontario_data['bathroom'].append(bathroom2)\n",
    "        if price:\n",
    "            ontario_data['price'].append(price2) \n",
    "ontario = pd.DataFrame(ontario_data)\n",
    "ontario.head(5)"
   ]
  },
  {
   "cell_type": "code",
   "execution_count": 6,
   "id": "96428266",
   "metadata": {},
   "outputs": [
    {
     "data": {
      "text/plain": [
       "(156, 4)"
      ]
     },
     "execution_count": 6,
     "metadata": {},
     "output_type": "execute_result"
    }
   ],
   "source": [
    "ontario.shape"
   ]
  },
  {
   "cell_type": "code",
   "execution_count": 7,
   "id": "fa0cca89",
   "metadata": {},
   "outputs": [
    {
     "data": {
      "text/html": [
       "<div>\n",
       "<style scoped>\n",
       "    .dataframe tbody tr th:only-of-type {\n",
       "        vertical-align: middle;\n",
       "    }\n",
       "\n",
       "    .dataframe tbody tr th {\n",
       "        vertical-align: top;\n",
       "    }\n",
       "\n",
       "    .dataframe thead th {\n",
       "        text-align: right;\n",
       "    }\n",
       "</style>\n",
       "<table border=\"1\" class=\"dataframe\">\n",
       "  <thead>\n",
       "    <tr style=\"text-align: right;\">\n",
       "      <th></th>\n",
       "      <th>address</th>\n",
       "      <th>bedroom</th>\n",
       "      <th>bathroom</th>\n",
       "      <th>price</th>\n",
       "    </tr>\n",
       "  </thead>\n",
       "  <tbody>\n",
       "    <tr>\n",
       "      <th>0</th>\n",
       "      <td>610 Granville...</td>\n",
       "      <td>1 Bed</td>\n",
       "      <td>1 Bath</td>\n",
       "      <td>$1,650 CA...</td>\n",
       "    </tr>\n",
       "    <tr>\n",
       "      <th>1</th>\n",
       "      <td>828 Howe Stre...</td>\n",
       "      <td>1 Bed</td>\n",
       "      <td>1 Bath</td>\n",
       "      <td>$1,650 CA...</td>\n",
       "    </tr>\n",
       "    <tr>\n",
       "      <th>2</th>\n",
       "      <td>833 Seymour S...</td>\n",
       "      <td>1 Bed</td>\n",
       "      <td>1 Bath</td>\n",
       "      <td>$1,400 CA...</td>\n",
       "    </tr>\n",
       "    <tr>\n",
       "      <th>3</th>\n",
       "      <td>Alexander Str...</td>\n",
       "      <td>1 Bed</td>\n",
       "      <td>1 Bath</td>\n",
       "      <td>$1,600 CA...</td>\n",
       "    </tr>\n",
       "    <tr>\n",
       "      <th>4</th>\n",
       "      <td>928 Homer Str...</td>\n",
       "      <td>1 Bed</td>\n",
       "      <td>1 Bath</td>\n",
       "      <td>$1,400 CA...</td>\n",
       "    </tr>\n",
       "  </tbody>\n",
       "</table>\n",
       "</div>"
      ],
      "text/plain": [
       "                                             address  bedroom bathroom  \\\n",
       "0                                   610 Granville...   1 Bed    1 Bath   \n",
       "1                                   828 Howe Stre...   1 Bed    1 Bath   \n",
       "2                                   833 Seymour S...   1 Bed    1 Bath   \n",
       "3                                   Alexander Str...   1 Bed    1 Bath   \n",
       "4                                   928 Homer Str...   1 Bed    1 Bath   \n",
       "\n",
       "                                               price  \n",
       "0                                       $1,650 CA...  \n",
       "1                                       $1,650 CA...  \n",
       "2                                       $1,400 CA...  \n",
       "3                                       $1,600 CA...  \n",
       "4                                       $1,400 CA...  "
      ]
     },
     "execution_count": 7,
     "metadata": {},
     "output_type": "execute_result"
    }
   ],
   "source": [
    "## SCRAPING LISTINGS IN BRITISH COLUMBIA\n",
    "for k in range(1,7):\n",
    "    url3 = 'https://apartmentlove.com/apartments-for-rent/british-columbia/canada/apartment/page'+str(k)\n",
    "    page3 = requests.get(url3)\n",
    "    soup3 = BeautifulSoup(page3.content, \"html.parser\")\n",
    "    lists3 = soup3.find_all('div', class_=\"property-details\")\n",
    "    for list in lists3:\n",
    "        address3 = list.find('div', class_='property-details-heading').h3.a.text.replace(\"\\n\",\" \")\n",
    "        bedroom3 = list.find('ul', class_='d-flex').li.text.replace(\"\\n\",\" \")\n",
    "        bathroom3= list.find('i', class_='bath-icon').next_sibling ## to extract the first string/text next to a tag/element \n",
    "        price3 = list.find('span', class_='price-text').text.replace(\"\\n\",\" \")\n",
    "        if address3:\n",
    "            BC_data['address'].append(address3)\n",
    "        if bedroom:\n",
    "            BC_data['bedroom'].append(bedroom3)\n",
    "        if bathroom:\n",
    "            BC_data['bathroom'].append(bathroom3)\n",
    "        if price:\n",
    "            BC_data['price'].append(price3) \n",
    "BC = pd.DataFrame(BC_data)\n",
    "BC.head(5)"
   ]
  },
  {
   "cell_type": "code",
   "execution_count": 8,
   "id": "eeb3724d",
   "metadata": {},
   "outputs": [
    {
     "data": {
      "text/plain": [
       "(144, 4)"
      ]
     },
     "execution_count": 8,
     "metadata": {},
     "output_type": "execute_result"
    }
   ],
   "source": [
    "BC.shape"
   ]
  },
  {
   "cell_type": "code",
   "execution_count": 9,
   "id": "a32f488e",
   "metadata": {},
   "outputs": [
    {
     "data": {
      "text/html": [
       "<div>\n",
       "<style scoped>\n",
       "    .dataframe tbody tr th:only-of-type {\n",
       "        vertical-align: middle;\n",
       "    }\n",
       "\n",
       "    .dataframe tbody tr th {\n",
       "        vertical-align: top;\n",
       "    }\n",
       "\n",
       "    .dataframe thead th {\n",
       "        text-align: right;\n",
       "    }\n",
       "</style>\n",
       "<table border=\"1\" class=\"dataframe\">\n",
       "  <thead>\n",
       "    <tr style=\"text-align: right;\">\n",
       "      <th></th>\n",
       "      <th>address</th>\n",
       "      <th>bedroom</th>\n",
       "      <th>bathroom</th>\n",
       "      <th>price</th>\n",
       "    </tr>\n",
       "  </thead>\n",
       "  <tbody>\n",
       "    <tr>\n",
       "      <th>0</th>\n",
       "      <td>618 5 Avenue ...</td>\n",
       "      <td>1 Bed</td>\n",
       "      <td>1 Bath</td>\n",
       "      <td>$1,399 CA...</td>\n",
       "    </tr>\n",
       "    <tr>\n",
       "      <th>1</th>\n",
       "      <td>9721 92 Ave.,...</td>\n",
       "      <td>1 Bed</td>\n",
       "      <td>1 Bath</td>\n",
       "      <td>$999 CAD ...</td>\n",
       "    </tr>\n",
       "    <tr>\n",
       "      <th>2</th>\n",
       "      <td>10717 107 Str...</td>\n",
       "      <td>Studio</td>\n",
       "      <td>1 Bath</td>\n",
       "      <td>$699 CAD ...</td>\n",
       "    </tr>\n",
       "    <tr>\n",
       "      <th>3</th>\n",
       "      <td>6707 Elbow Dr...</td>\n",
       "      <td>Studio</td>\n",
       "      <td>1 Bath</td>\n",
       "      <td>$1,050 CA...</td>\n",
       "    </tr>\n",
       "    <tr>\n",
       "      <th>4</th>\n",
       "      <td>3011 James Mo...</td>\n",
       "      <td>2 Beds</td>\n",
       "      <td>2 Baths</td>\n",
       "      <td>$1,429 CA...</td>\n",
       "    </tr>\n",
       "    <tr>\n",
       "      <th>...</th>\n",
       "      <td>...</td>\n",
       "      <td>...</td>\n",
       "      <td>...</td>\n",
       "      <td>...</td>\n",
       "    </tr>\n",
       "    <tr>\n",
       "      <th>139</th>\n",
       "      <td>1970 Fitzgera...</td>\n",
       "      <td>2 Beds</td>\n",
       "      <td>1 Bath</td>\n",
       "      <td>$1,295 CA...</td>\n",
       "    </tr>\n",
       "    <tr>\n",
       "      <th>140</th>\n",
       "      <td>1970 Fitzgera...</td>\n",
       "      <td>3 Beds</td>\n",
       "      <td>1 Bath</td>\n",
       "      <td>$1,495 CA...</td>\n",
       "    </tr>\n",
       "    <tr>\n",
       "      <th>141</th>\n",
       "      <td>144 Brunswick...</td>\n",
       "      <td>1 Bed</td>\n",
       "      <td>1 Bath</td>\n",
       "      <td>$1,250 CA...</td>\n",
       "    </tr>\n",
       "    <tr>\n",
       "      <th>142</th>\n",
       "      <td>908 Sixth Ave...</td>\n",
       "      <td>2 Beds</td>\n",
       "      <td>1 Bath</td>\n",
       "      <td>$1,995 CA...</td>\n",
       "    </tr>\n",
       "    <tr>\n",
       "      <th>143</th>\n",
       "      <td>144 Brunswick...</td>\n",
       "      <td>2 Beds</td>\n",
       "      <td>1 Bath</td>\n",
       "      <td>$1,395 CA...</td>\n",
       "    </tr>\n",
       "  </tbody>\n",
       "</table>\n",
       "<p>1572 rows × 4 columns</p>\n",
       "</div>"
      ],
      "text/plain": [
       "                                               address   bedroom  bathroom  \\\n",
       "0                                     618 5 Avenue ...    1 Bed     1 Bath   \n",
       "1                                     9721 92 Ave.,...    1 Bed     1 Bath   \n",
       "2                                     10717 107 Str...   Studio     1 Bath   \n",
       "3                                     6707 Elbow Dr...   Studio     1 Bath   \n",
       "4                                     3011 James Mo...   2 Beds    2 Baths   \n",
       "..                                                 ...       ...       ...   \n",
       "139                                   1970 Fitzgera...   2 Beds     1 Bath   \n",
       "140                                   1970 Fitzgera...   3 Beds     1 Bath   \n",
       "141                                   144 Brunswick...    1 Bed     1 Bath   \n",
       "142                                   908 Sixth Ave...   2 Beds     1 Bath   \n",
       "143                                   144 Brunswick...   2 Beds     1 Bath   \n",
       "\n",
       "                                                 price  \n",
       "0                                         $1,399 CA...  \n",
       "1                                         $999 CAD ...  \n",
       "2                                         $699 CAD ...  \n",
       "3                                         $1,050 CA...  \n",
       "4                                         $1,429 CA...  \n",
       "..                                                 ...  \n",
       "139                                       $1,295 CA...  \n",
       "140                                       $1,495 CA...  \n",
       "141                                       $1,250 CA...  \n",
       "142                                       $1,995 CA...  \n",
       "143                                       $1,395 CA...  \n",
       "\n",
       "[1572 rows x 4 columns]"
      ]
     },
     "execution_count": 9,
     "metadata": {},
     "output_type": "execute_result"
    }
   ],
   "source": [
    "all_listings = pd.concat([alberta,ontario,BC], axis = 0)\n",
    "all_listings"
   ]
  },
  {
   "cell_type": "markdown",
   "id": "6670c0d3",
   "metadata": {},
   "source": [
    "   ##  DATA INSPECTION"
   ]
  },
  {
   "cell_type": "code",
   "execution_count": 10,
   "id": "a658bcc2",
   "metadata": {},
   "outputs": [
    {
     "data": {
      "text/plain": [
       "(1572, 4)"
      ]
     },
     "execution_count": 10,
     "metadata": {},
     "output_type": "execute_result"
    }
   ],
   "source": [
    " all_listings.shape"
   ]
  },
  {
   "cell_type": "code",
   "execution_count": 11,
   "id": "539c3348",
   "metadata": {},
   "outputs": [
    {
     "data": {
      "text/plain": [
       "address     0\n",
       "bedroom     0\n",
       "bathroom    0\n",
       "price       0\n",
       "dtype: int64"
      ]
     },
     "execution_count": 11,
     "metadata": {},
     "output_type": "execute_result"
    }
   ],
   "source": [
    "all_listings.isna().sum()"
   ]
  },
  {
   "cell_type": "code",
   "execution_count": 12,
   "id": "08620257",
   "metadata": {},
   "outputs": [
    {
     "data": {
      "text/html": [
       "<div>\n",
       "<style scoped>\n",
       "    .dataframe tbody tr th:only-of-type {\n",
       "        vertical-align: middle;\n",
       "    }\n",
       "\n",
       "    .dataframe tbody tr th {\n",
       "        vertical-align: top;\n",
       "    }\n",
       "\n",
       "    .dataframe thead th {\n",
       "        text-align: right;\n",
       "    }\n",
       "</style>\n",
       "<table border=\"1\" class=\"dataframe\">\n",
       "  <thead>\n",
       "    <tr style=\"text-align: right;\">\n",
       "      <th></th>\n",
       "      <th>address</th>\n",
       "      <th>bedroom</th>\n",
       "      <th>bathroom</th>\n",
       "      <th>price</th>\n",
       "    </tr>\n",
       "  </thead>\n",
       "  <tbody>\n",
       "    <tr>\n",
       "      <th>count</th>\n",
       "      <td>1572</td>\n",
       "      <td>1572</td>\n",
       "      <td>1572</td>\n",
       "      <td>1572</td>\n",
       "    </tr>\n",
       "    <tr>\n",
       "      <th>unique</th>\n",
       "      <td>565</td>\n",
       "      <td>8</td>\n",
       "      <td>3</td>\n",
       "      <td>432</td>\n",
       "    </tr>\n",
       "    <tr>\n",
       "      <th>top</th>\n",
       "      <td>150-8930 Jasp...</td>\n",
       "      <td>2 Beds</td>\n",
       "      <td>1 Bath</td>\n",
       "      <td>$999 CAD ...</td>\n",
       "    </tr>\n",
       "    <tr>\n",
       "      <th>freq</th>\n",
       "      <td>13</td>\n",
       "      <td>587</td>\n",
       "      <td>1472</td>\n",
       "      <td>37</td>\n",
       "    </tr>\n",
       "  </tbody>\n",
       "</table>\n",
       "</div>"
      ],
      "text/plain": [
       "                                                  address   bedroom bathroom  \\\n",
       "count                                                1572      1572     1572   \n",
       "unique                                                565         8        3   \n",
       "top                                      150-8930 Jasp...   2 Beds    1 Bath   \n",
       "freq                                                   13       587     1472   \n",
       "\n",
       "                                                    price  \n",
       "count                                                1572  \n",
       "unique                                                432  \n",
       "top                                          $999 CAD ...  \n",
       "freq                                                   37  "
      ]
     },
     "execution_count": 12,
     "metadata": {},
     "output_type": "execute_result"
    }
   ],
   "source": [
    "all_listings.describe()"
   ]
  },
  {
   "cell_type": "markdown",
   "id": "964c11f4",
   "metadata": {},
   "source": [
    "## DATA CLEANING/WRANGLING"
   ]
  },
  {
   "cell_type": "code",
   "execution_count": 14,
   "id": "5abdc611",
   "metadata": {},
   "outputs": [
    {
     "data": {
      "text/html": [
       "<div>\n",
       "<style scoped>\n",
       "    .dataframe tbody tr th:only-of-type {\n",
       "        vertical-align: middle;\n",
       "    }\n",
       "\n",
       "    .dataframe tbody tr th {\n",
       "        vertical-align: top;\n",
       "    }\n",
       "\n",
       "    .dataframe thead th {\n",
       "        text-align: right;\n",
       "    }\n",
       "</style>\n",
       "<table border=\"1\" class=\"dataframe\">\n",
       "  <thead>\n",
       "    <tr style=\"text-align: right;\">\n",
       "      <th></th>\n",
       "      <th>address</th>\n",
       "      <th>bedroom</th>\n",
       "      <th>bathroom</th>\n",
       "      <th>price</th>\n",
       "      <th>city</th>\n",
       "      <th>province</th>\n",
       "    </tr>\n",
       "  </thead>\n",
       "  <tbody>\n",
       "    <tr>\n",
       "      <th>0</th>\n",
       "      <td>618 5 Avenue ...</td>\n",
       "      <td>1 Bed</td>\n",
       "      <td>1 Bath</td>\n",
       "      <td>$1,399 CA...</td>\n",
       "      <td>Calgary</td>\n",
       "      <td>AB</td>\n",
       "    </tr>\n",
       "    <tr>\n",
       "      <th>1</th>\n",
       "      <td>9721 92 Ave.</td>\n",
       "      <td>1 Bed</td>\n",
       "      <td>1 Bath</td>\n",
       "      <td>$999 CAD ...</td>\n",
       "      <td>Grande Prairie</td>\n",
       "      <td>AB</td>\n",
       "    </tr>\n",
       "    <tr>\n",
       "      <th>2</th>\n",
       "      <td>10717 107 Str...</td>\n",
       "      <td>Studio</td>\n",
       "      <td>1 Bath</td>\n",
       "      <td>$699 CAD ...</td>\n",
       "      <td>Edmonton</td>\n",
       "      <td>AB</td>\n",
       "    </tr>\n",
       "    <tr>\n",
       "      <th>3</th>\n",
       "      <td>6707 Elbow Dr...</td>\n",
       "      <td>Studio</td>\n",
       "      <td>1 Bath</td>\n",
       "      <td>$1,050 CA...</td>\n",
       "      <td>Calgary</td>\n",
       "      <td>AB</td>\n",
       "    </tr>\n",
       "    <tr>\n",
       "      <th>4</th>\n",
       "      <td>3011 James Mo...</td>\n",
       "      <td>2 Beds</td>\n",
       "      <td>2 Baths</td>\n",
       "      <td>$1,429 CA...</td>\n",
       "      <td>Edmonton</td>\n",
       "      <td>AB</td>\n",
       "    </tr>\n",
       "  </tbody>\n",
       "</table>\n",
       "</div>"
      ],
      "text/plain": [
       "                                             address   bedroom  bathroom  \\\n",
       "0                                   618 5 Avenue ...    1 Bed     1 Bath   \n",
       "1                                       9721 92 Ave.    1 Bed     1 Bath   \n",
       "2                                   10717 107 Str...   Studio     1 Bath   \n",
       "3                                   6707 Elbow Dr...   Studio     1 Bath   \n",
       "4                                   3011 James Mo...   2 Beds    2 Baths   \n",
       "\n",
       "                                               price             city  \\\n",
       "0                                       $1,399 CA...          Calgary   \n",
       "1                                       $999 CAD ...   Grande Prairie   \n",
       "2                                       $699 CAD ...         Edmonton   \n",
       "3                                       $1,050 CA...          Calgary   \n",
       "4                                       $1,429 CA...         Edmonton   \n",
       "\n",
       "                          province  \n",
       "0   AB                              \n",
       "1   AB                              \n",
       "2   AB                              \n",
       "3   AB                              \n",
       "4   AB                              "
      ]
     },
     "execution_count": 14,
     "metadata": {},
     "output_type": "execute_result"
    }
   ],
   "source": [
    "all_listings[['address','city','province']] = all_listings['address'].str.rsplit(',', n=2,expand=True)\n",
    "all_listings.head(5)"
   ]
  },
  {
   "cell_type": "code",
   "execution_count": 15,
   "id": "60e1b99b",
   "metadata": {},
   "outputs": [
    {
     "data": {
      "text/html": [
       "<div>\n",
       "<style scoped>\n",
       "    .dataframe tbody tr th:only-of-type {\n",
       "        vertical-align: middle;\n",
       "    }\n",
       "\n",
       "    .dataframe tbody tr th {\n",
       "        vertical-align: top;\n",
       "    }\n",
       "\n",
       "    .dataframe thead th {\n",
       "        text-align: right;\n",
       "    }\n",
       "</style>\n",
       "<table border=\"1\" class=\"dataframe\">\n",
       "  <thead>\n",
       "    <tr style=\"text-align: right;\">\n",
       "      <th></th>\n",
       "      <th>address</th>\n",
       "      <th>bedroom</th>\n",
       "      <th>bathroom</th>\n",
       "      <th>price</th>\n",
       "      <th>city</th>\n",
       "      <th>province</th>\n",
       "    </tr>\n",
       "  </thead>\n",
       "  <tbody>\n",
       "    <tr>\n",
       "      <th>0</th>\n",
       "      <td>618 5 Avenue ...</td>\n",
       "      <td>1</td>\n",
       "      <td>1</td>\n",
       "      <td>$1,399 CA...</td>\n",
       "      <td>Calgary</td>\n",
       "      <td>AB</td>\n",
       "    </tr>\n",
       "    <tr>\n",
       "      <th>1</th>\n",
       "      <td>9721 92 Ave.</td>\n",
       "      <td>1</td>\n",
       "      <td>1</td>\n",
       "      <td>$999 CAD ...</td>\n",
       "      <td>Grande Prairie</td>\n",
       "      <td>AB</td>\n",
       "    </tr>\n",
       "    <tr>\n",
       "      <th>2</th>\n",
       "      <td>10717 107 Str...</td>\n",
       "      <td>0</td>\n",
       "      <td>1</td>\n",
       "      <td>$699 CAD ...</td>\n",
       "      <td>Edmonton</td>\n",
       "      <td>AB</td>\n",
       "    </tr>\n",
       "    <tr>\n",
       "      <th>3</th>\n",
       "      <td>6707 Elbow Dr...</td>\n",
       "      <td>0</td>\n",
       "      <td>1</td>\n",
       "      <td>$1,050 CA...</td>\n",
       "      <td>Calgary</td>\n",
       "      <td>AB</td>\n",
       "    </tr>\n",
       "    <tr>\n",
       "      <th>4</th>\n",
       "      <td>3011 James Mo...</td>\n",
       "      <td>2</td>\n",
       "      <td>2</td>\n",
       "      <td>$1,429 CA...</td>\n",
       "      <td>Edmonton</td>\n",
       "      <td>AB</td>\n",
       "    </tr>\n",
       "  </tbody>\n",
       "</table>\n",
       "</div>"
      ],
      "text/plain": [
       "                                             address bedroom bathroom  \\\n",
       "0                                   618 5 Avenue ...     1         1    \n",
       "1                                       9721 92 Ave.     1         1    \n",
       "2                                   10717 107 Str...      0        1    \n",
       "3                                   6707 Elbow Dr...      0        1    \n",
       "4                                   3011 James Mo...     2         2    \n",
       "\n",
       "                                               price             city  \\\n",
       "0                                       $1,399 CA...          Calgary   \n",
       "1                                       $999 CAD ...   Grande Prairie   \n",
       "2                                       $699 CAD ...         Edmonton   \n",
       "3                                       $1,050 CA...          Calgary   \n",
       "4                                       $1,429 CA...         Edmonton   \n",
       "\n",
       "                          province  \n",
       "0   AB                              \n",
       "1   AB                              \n",
       "2   AB                              \n",
       "3   AB                              \n",
       "4   AB                              "
      ]
     },
     "execution_count": 15,
     "metadata": {},
     "output_type": "execute_result"
    }
   ],
   "source": [
    "## DATA MANIPULATION\n",
    "all_listings['bedroom'] = all_listings['bedroom'].str.replace('Beds','')\n",
    "all_listings['bedroom'] = all_listings['bedroom'].str.replace('Bed','')\n",
    "all_listings['bathroom'] = all_listings['bathroom'].str.replace('Baths','')\n",
    "all_listings['bathroom'] = all_listings['bathroom'].str.replace('Bath','')\n",
    "all_listings['bedroom'] = all_listings['bedroom'].str.replace('Studio',\"0\")\n",
    "all_listings.head(5)"
   ]
  },
  {
   "cell_type": "code",
   "execution_count": 16,
   "id": "0d2b5baa",
   "metadata": {},
   "outputs": [],
   "source": [
    "## CHANGE THE DATA TYPES\n",
    "all_listings[['bedroom','bathroom']] = all_listings[['bedroom','bathroom']].apply(pd.to_numeric)\n",
    "all_listings['price'] = all_listings['price'].str.replace('CAD / month','')\n",
    "all_listings['price'] = all_listings['price'].str.replace('\\$','',regex = True)\n",
    "all_listings['price'] = pd.to_numeric(all_listings['price'].replace({',':''}, regex = True)).astype(float)\n"
   ]
  },
  {
   "cell_type": "code",
   "execution_count": 17,
   "id": "75873759",
   "metadata": {},
   "outputs": [
    {
     "data": {
      "text/plain": [
       "array([1, 2, 3], dtype=int64)"
      ]
     },
     "execution_count": 17,
     "metadata": {},
     "output_type": "execute_result"
    }
   ],
   "source": [
    "all_listings.bathroom.unique()"
   ]
  },
  {
   "cell_type": "code",
   "execution_count": 18,
   "id": "51e5733b",
   "metadata": {},
   "outputs": [
    {
     "data": {
      "text/plain": [
       "array([1. , 0. , 2. , 3. , 5. , 4. , 2.5, 1.5])"
      ]
     },
     "execution_count": 18,
     "metadata": {},
     "output_type": "execute_result"
    }
   ],
   "source": [
    "all_listings.bedroom.unique()"
   ]
  },
  {
   "cell_type": "code",
   "execution_count": 19,
   "id": "25f6ea39",
   "metadata": {},
   "outputs": [
    {
     "data": {
      "text/plain": [
       "address      object\n",
       "bedroom     float64\n",
       "bathroom      int64\n",
       "price       float64\n",
       "city         object\n",
       "province     object\n",
       "dtype: object"
      ]
     },
     "execution_count": 19,
     "metadata": {},
     "output_type": "execute_result"
    }
   ],
   "source": [
    "all_listings.dtypes"
   ]
  },
  {
   "cell_type": "code",
   "execution_count": 20,
   "id": "f22cca67",
   "metadata": {},
   "outputs": [],
   "source": [
    "## SAVING DATA TO A CSV FILE\n",
    "all_listings.to_csv('apartment_listings.csv')"
   ]
  },
  {
   "cell_type": "code",
   "execution_count": 69,
   "id": "8119545a",
   "metadata": {},
   "outputs": [],
   "source": [
    "## Analysis is performed for only 0-3 bedroom apartments\n",
    "apartments = all_listings[(all_listings['bedroom']== 0) | (all_listings['bedroom']==1)|(all_listings['bedroom']==2)|(all_listings['bedroom']==3)]"
   ]
  },
  {
   "cell_type": "code",
   "execution_count": 70,
   "id": "c542e25b",
   "metadata": {},
   "outputs": [
    {
     "data": {
      "text/html": [
       "<div>\n",
       "<style scoped>\n",
       "    .dataframe tbody tr th:only-of-type {\n",
       "        vertical-align: middle;\n",
       "    }\n",
       "\n",
       "    .dataframe tbody tr th {\n",
       "        vertical-align: top;\n",
       "    }\n",
       "\n",
       "    .dataframe thead th {\n",
       "        text-align: right;\n",
       "    }\n",
       "</style>\n",
       "<table border=\"1\" class=\"dataframe\">\n",
       "  <thead>\n",
       "    <tr style=\"text-align: right;\">\n",
       "      <th></th>\n",
       "      <th>Unnamed: 0</th>\n",
       "      <th>address</th>\n",
       "      <th>bedroom</th>\n",
       "      <th>bathroom</th>\n",
       "      <th>price</th>\n",
       "      <th>city</th>\n",
       "      <th>province</th>\n",
       "    </tr>\n",
       "  </thead>\n",
       "  <tbody>\n",
       "    <tr>\n",
       "      <th>0</th>\n",
       "      <td>0</td>\n",
       "      <td>618 5 Avenue ...</td>\n",
       "      <td>1.0</td>\n",
       "      <td>1</td>\n",
       "      <td>1399.0</td>\n",
       "      <td>Calgary</td>\n",
       "      <td>AB</td>\n",
       "    </tr>\n",
       "    <tr>\n",
       "      <th>1</th>\n",
       "      <td>1</td>\n",
       "      <td>9721 92 Ave.</td>\n",
       "      <td>1.0</td>\n",
       "      <td>1</td>\n",
       "      <td>999.0</td>\n",
       "      <td>Grande Prairie</td>\n",
       "      <td>AB</td>\n",
       "    </tr>\n",
       "    <tr>\n",
       "      <th>2</th>\n",
       "      <td>2</td>\n",
       "      <td>10717 107 Str...</td>\n",
       "      <td>0.0</td>\n",
       "      <td>1</td>\n",
       "      <td>699.0</td>\n",
       "      <td>Edmonton</td>\n",
       "      <td>AB</td>\n",
       "    </tr>\n",
       "    <tr>\n",
       "      <th>3</th>\n",
       "      <td>3</td>\n",
       "      <td>6707 Elbow Dr...</td>\n",
       "      <td>0.0</td>\n",
       "      <td>1</td>\n",
       "      <td>1050.0</td>\n",
       "      <td>Calgary</td>\n",
       "      <td>AB</td>\n",
       "    </tr>\n",
       "    <tr>\n",
       "      <th>4</th>\n",
       "      <td>4</td>\n",
       "      <td>3011 James Mo...</td>\n",
       "      <td>2.0</td>\n",
       "      <td>2</td>\n",
       "      <td>1429.0</td>\n",
       "      <td>Edmonton</td>\n",
       "      <td>AB</td>\n",
       "    </tr>\n",
       "    <tr>\n",
       "      <th>...</th>\n",
       "      <td>...</td>\n",
       "      <td>...</td>\n",
       "      <td>...</td>\n",
       "      <td>...</td>\n",
       "      <td>...</td>\n",
       "      <td>...</td>\n",
       "      <td>...</td>\n",
       "    </tr>\n",
       "    <tr>\n",
       "      <th>1567</th>\n",
       "      <td>139</td>\n",
       "      <td>1970 Fitzgera...</td>\n",
       "      <td>2.0</td>\n",
       "      <td>1</td>\n",
       "      <td>1295.0</td>\n",
       "      <td>Courtenay</td>\n",
       "      <td>BC</td>\n",
       "    </tr>\n",
       "    <tr>\n",
       "      <th>1568</th>\n",
       "      <td>140</td>\n",
       "      <td>1970 Fitzgera...</td>\n",
       "      <td>3.0</td>\n",
       "      <td>1</td>\n",
       "      <td>1495.0</td>\n",
       "      <td>Courtenay</td>\n",
       "      <td>BC</td>\n",
       "    </tr>\n",
       "    <tr>\n",
       "      <th>1569</th>\n",
       "      <td>141</td>\n",
       "      <td>144 Brunswick...</td>\n",
       "      <td>1.0</td>\n",
       "      <td>1</td>\n",
       "      <td>1250.0</td>\n",
       "      <td>Penticton</td>\n",
       "      <td>BC</td>\n",
       "    </tr>\n",
       "    <tr>\n",
       "      <th>1570</th>\n",
       "      <td>142</td>\n",
       "      <td>908 Sixth Avenue</td>\n",
       "      <td>2.0</td>\n",
       "      <td>1</td>\n",
       "      <td>1995.0</td>\n",
       "      <td>New Westminster</td>\n",
       "      <td>BC</td>\n",
       "    </tr>\n",
       "    <tr>\n",
       "      <th>1571</th>\n",
       "      <td>143</td>\n",
       "      <td>144 Brunswick St</td>\n",
       "      <td>2.0</td>\n",
       "      <td>1</td>\n",
       "      <td>1395.0</td>\n",
       "      <td>Penticton</td>\n",
       "      <td>BC</td>\n",
       "    </tr>\n",
       "  </tbody>\n",
       "</table>\n",
       "<p>1563 rows × 7 columns</p>\n",
       "</div>"
      ],
      "text/plain": [
       "      Unnamed: 0                                            address  bedroom  \\\n",
       "0              0                                   618 5 Avenue ...      1.0   \n",
       "1              1                                       9721 92 Ave.      1.0   \n",
       "2              2                                   10717 107 Str...      0.0   \n",
       "3              3                                   6707 Elbow Dr...      0.0   \n",
       "4              4                                   3011 James Mo...      2.0   \n",
       "...          ...                                                ...      ...   \n",
       "1567         139                                   1970 Fitzgera...      2.0   \n",
       "1568         140                                   1970 Fitzgera...      3.0   \n",
       "1569         141                                   144 Brunswick...      1.0   \n",
       "1570         142                                   908 Sixth Avenue      2.0   \n",
       "1571         143                                   144 Brunswick St      2.0   \n",
       "\n",
       "      bathroom   price              city                         province  \n",
       "0            1  1399.0           Calgary   AB                              \n",
       "1            1   999.0    Grande Prairie   AB                              \n",
       "2            1   699.0          Edmonton   AB                              \n",
       "3            1  1050.0           Calgary   AB                              \n",
       "4            2  1429.0          Edmonton   AB                              \n",
       "...        ...     ...               ...                              ...  \n",
       "1567         1  1295.0         Courtenay   BC                              \n",
       "1568         1  1495.0         Courtenay   BC                              \n",
       "1569         1  1250.0         Penticton   BC                              \n",
       "1570         1  1995.0   New Westminster   BC                              \n",
       "1571         1  1395.0         Penticton   BC                              \n",
       "\n",
       "[1563 rows x 7 columns]"
      ]
     },
     "execution_count": 70,
     "metadata": {},
     "output_type": "execute_result"
    }
   ],
   "source": [
    "apartments"
   ]
  },
  {
   "cell_type": "code",
   "execution_count": 71,
   "id": "23416349",
   "metadata": {},
   "outputs": [
    {
     "data": {
      "image/png": "[encoded data removed]",
      "text/plain": [
       "<Figure size 576x360 with 1 Axes>"
      ]
     },
     "metadata": {},
     "output_type": "display_data"
    }
   ],
   "source": [
    "## Price Distribution for the dataset\n",
    "plt.figure(figsize=(8,5))\n",
    "plt.hist(apartments['price'],bins =range(500,5000,200),color='purple') \n",
    "plt.xlabel('Rent Prices/month')\n",
    "plt.ylabel('Count of listings')\n",
    "plt.title('Price Distribution')\n",
    "plt.show()"
   ]
  },
  {
   "cell_type": "code",
   "execution_count": 72,
   "id": "b67d74ec",
   "metadata": {},
   "outputs": [
    {
     "data": {
      "image/png": "[encoded data removed]",
      "text/plain": [
       "<Figure size 720x576 with 4 Axes>"
      ]
     },
     "metadata": {},
     "output_type": "display_data"
    }
   ],
   "source": [
    "## Histogram of prices for each province\n",
    "apartments['price'].hist(by=apartments['province'],color='green',bins =range(500,4000,200),figsize=(10,8))\n",
    "plt.show()"
   ]
  },
  {
   "cell_type": "code",
   "execution_count": 73,
   "id": "7d68488b",
   "metadata": {},
   "outputs": [
    {
     "data": {
      "image/png": "[encoded data removed]",
      "text/plain": [
       "<Figure size 576x576 with 1 Axes>"
      ]
     },
     "metadata": {},
     "output_type": "display_data"
    }
   ],
   "source": [
    "##Boxplot for each province \n",
    "apartments.boxplot(column='price', by='province',color= \"green\", figsize=(8,8), showmeans=True)\n",
    "plt.show()\n",
    "## The ouliers in the plot below can be attributed to the natural variations in the provinces. That is, the cities in each province have their own unique characteristics which may cause the disparity in prices"
   ]
  },
  {
   "cell_type": "code",
   "execution_count": 76,
   "id": "f3ae0cdb",
   "metadata": {},
   "outputs": [
    {
     "data": {
      "text/html": [
       "<div>\n",
       "<style scoped>\n",
       "    .dataframe tbody tr th:only-of-type {\n",
       "        vertical-align: middle;\n",
       "    }\n",
       "\n",
       "    .dataframe tbody tr th {\n",
       "        vertical-align: top;\n",
       "    }\n",
       "\n",
       "    .dataframe thead th {\n",
       "        text-align: right;\n",
       "    }\n",
       "</style>\n",
       "<table border=\"1\" class=\"dataframe\">\n",
       "  <thead>\n",
       "    <tr style=\"text-align: right;\">\n",
       "      <th>bedroom</th>\n",
       "      <th>0.0</th>\n",
       "      <th>1.0</th>\n",
       "      <th>2.0</th>\n",
       "      <th>3.0</th>\n",
       "    </tr>\n",
       "    <tr>\n",
       "      <th>province</th>\n",
       "      <th></th>\n",
       "      <th></th>\n",
       "      <th></th>\n",
       "      <th></th>\n",
       "    </tr>\n",
       "  </thead>\n",
       "  <tbody>\n",
       "    <tr>\n",
       "      <th>AB</th>\n",
       "      <td>882.786517</td>\n",
       "      <td>1067.613924</td>\n",
       "      <td>1285.652720</td>\n",
       "      <td>1533.129496</td>\n",
       "    </tr>\n",
       "    <tr>\n",
       "      <th>BC</th>\n",
       "      <td>1046.944444</td>\n",
       "      <td>1401.557377</td>\n",
       "      <td>1593.260870</td>\n",
       "      <td>1876.666667</td>\n",
       "    </tr>\n",
       "    <tr>\n",
       "      <th>ON</th>\n",
       "      <td>1245.500000</td>\n",
       "      <td>1600.820000</td>\n",
       "      <td>2019.190476</td>\n",
       "      <td>2254.785714</td>\n",
       "    </tr>\n",
       "  </tbody>\n",
       "</table>\n",
       "</div>"
      ],
      "text/plain": [
       "bedroom                                  0.0          1.0          2.0  \\\n",
       "province                                                                 \n",
       " AB                               882.786517  1067.613924  1285.652720   \n",
       " BC                              1046.944444  1401.557377  1593.260870   \n",
       " ON                              1245.500000  1600.820000  2019.190476   \n",
       "\n",
       "bedroom                                  3.0  \n",
       "province                                      \n",
       " AB                              1533.129496  \n",
       " BC                              1876.666667  \n",
       " ON                              2254.785714  "
      ]
     },
     "execution_count": 76,
     "metadata": {},
     "output_type": "execute_result"
    }
   ],
   "source": [
    "## A pivot table for the average rent prices for 0-3 bedroom apartments in each province\n",
    "pivot1 = pd.pivot_table(apartments,\n",
    "                       index=[\"province\"],\n",
    "                       columns ='bedroom',\n",
    "                       values='price',\n",
    "                       aggfunc = 'mean')\n",
    "pivot1"
   ]
  },
  {
   "cell_type": "code",
   "execution_count": 77,
   "id": "27c1b4fd",
   "metadata": {
    "scrolled": true
   },
   "outputs": [
    {
     "data": {
      "application/vnd.plotly.v1+json": {
       "config": {
        "plotlyServerURL": "https://plotly.com"
       },
       "data": [
        {
         "alignmentgroup": "True",
         "bingroup": "x",
         "histfunc": "sum",
         "hovertemplate": "bedroom=0.0<br>province=%{x}<br>sum of price=%{y}<extra></extra>",
         "legendgroup": "0.0",
         "marker": {
          "color": "#FFA15A",
          "pattern": {
           "shape": ""
          }
         },
         "name": "0.0",
         "offsetgroup": "0.0",
         "orientation": "v",
         "showlegend": true,
         "texttemplate": "%{value}",
         "type": "histogram",
         "x": [
          " AB                            ",
          " BC                            ",
          " ON                            "
         ],
         "xaxis": "x",
         "y": [
          882.7865168539325,
          1046.9444444444443,
          1245.5
         ],
         "yaxis": "y"
        },
        {
         "alignmentgroup": "True",
         "bingroup": "x",
         "histfunc": "sum",
         "hovertemplate": "bedroom=1.0<br>province=%{x}<br>sum of price=%{y}<extra></extra>",
         "legendgroup": "1.0",
         "marker": {
          "color": "#19d3f3",
          "pattern": {
           "shape": ""
          }
         },
         "name": "1.0",
         "offsetgroup": "1.0",
         "orientation": "v",
         "showlegend": true,
         "texttemplate": "%{value}",
         "type": "histogram",
         "x": [
          " AB                            ",
          " BC                            ",
          " ON                            "
         ],
         "xaxis": "x",
         "y": [
          1067.613924050633,
          1401.5573770491803,
          1600.82
         ],
         "yaxis": "y"
        },
        {
         "alignmentgroup": "True",
         "bingroup": "x",
         "histfunc": "sum",
         "hovertemplate": "bedroom=2.0<br>province=%{x}<br>sum of price=%{y}<extra></extra>",
         "legendgroup": "2.0",
         "marker": {
          "color": "#FF6692",
          "pattern": {
           "shape": ""
          }
         },
         "name": "2.0",
         "offsetgroup": "2.0",
         "orientation": "v",
         "showlegend": true,
         "texttemplate": "%{value}",
         "type": "histogram",
         "x": [
          " AB                            ",
          " BC                            ",
          " ON                            "
         ],
         "xaxis": "x",
         "y": [
          1285.652719665272,
          1593.2608695652175,
          2019.1904761904761
         ],
         "yaxis": "y"
        },
        {
         "alignmentgroup": "True",
         "bingroup": "x",
         "histfunc": "sum",
         "hovertemplate": "bedroom=3.0<br>province=%{x}<br>sum of price=%{y}<extra></extra>",
         "legendgroup": "3.0",
         "marker": {
          "color": "#B6E880",
          "pattern": {
           "shape": ""
          }
         },
         "name": "3.0",
         "offsetgroup": "3.0",
         "orientation": "v",
         "showlegend": true,
         "texttemplate": "%{value}",
         "type": "histogram",
         "x": [
          " AB                            ",
          " BC                            ",
          " ON                            "
         ],
         "xaxis": "x",
         "y": [
          1533.1294964028777,
          1876.6666666666667,
          2254.785714285714
         ],
         "yaxis": "y"
        }
       ],
       "layout": {
        "barmode": "group",
        "font": {
         "size": 13
        },
        "legend": {
         "title": {
          "text": "BEDROOM SIZE"
         },
         "tracegroupgap": 0
        },
        "margin": {
         "t": 60
        },
        "paper_bgcolor": "rgba(0,0,0,0)",
        "plot_bgcolor": "rgba(0,0,0,0)",
        "template": {
         "data": {
          "bar": [
           {
            "error_x": {
             "color": "#2a3f5f"
            },
            "error_y": {
             "color": "#2a3f5f"
            },
            "marker": {
             "line": {
              "color": "#E5ECF6",
              "width": 0.5
             },
             "pattern": {
              "fillmode": "overlay",
              "size": 10,
              "solidity": 0.2
             }
            },
            "type": "bar"
           }
          ],
          "barpolar": [
           {
            "marker": {
             "line": {
              "color": "#E5ECF6",
              "width": 0.5
             },
             "pattern": {
              "fillmode": "overlay",
              "size": 10,
              "solidity": 0.2
             }
            },
            "type": "barpolar"
           }
          ],
          "carpet": [
           {
            "aaxis": {
             "endlinecolor": "#2a3f5f",
             "gridcolor": "white",
             "linecolor": "white",
             "minorgridcolor": "white",
             "startlinecolor": "#2a3f5f"
            },
            "baxis": {
             "endlinecolor": "#2a3f5f",
             "gridcolor": "white",
             "linecolor": "white",
             "minorgridcolor": "white",
             "startlinecolor": "#2a3f5f"
            },
            "type": "carpet"
           }
          ],
          "choropleth": [
           {
            "colorbar": {
             "outlinewidth": 0,
             "ticks": ""
            },
            "type": "choropleth"
           }
          ],
          "contour": [
           {
            "colorbar": {
             "outlinewidth": 0,
             "ticks": ""
            },
            "colorscale": [
             [
              0,
              "#0d0887"
             ],
             [
              0.1111111111111111,
              "#46039f"
             ],
             [
              0.2222222222222222,
              "#7201a8"
             ],
             [
              0.3333333333333333,
              "#9c179e"
             ],
             [
              0.4444444444444444,
              "#bd3786"
             ],
             [
              0.5555555555555556,
              "#d8576b"
             ],
             [
              0.6666666666666666,
              "#ed7953"
             ],
             [
              0.7777777777777778,
              "#fb9f3a"
             ],
             [
              0.8888888888888888,
              "#fdca26"
             ],
             [
              1,
              "#f0f921"
             ]
            ],
            "type": "contour"
           }
          ],
          "contourcarpet": [
           {
            "colorbar": {
             "outlinewidth": 0,
             "ticks": ""
            },
            "type": "contourcarpet"
           }
          ],
          "heatmap": [
           {
            "colorbar": {
             "outlinewidth": 0,
             "ticks": ""
            },
            "colorscale": [
             [
              0,
              "#0d0887"
             ],
             [
              0.1111111111111111,
              "#46039f"
             ],
             [
              0.2222222222222222,
              "#7201a8"
             ],
             [
              0.3333333333333333,
              "#9c179e"
             ],
             [
              0.4444444444444444,
              "#bd3786"
             ],
             [
              0.5555555555555556,
              "#d8576b"
             ],
             [
              0.6666666666666666,
              "#ed7953"
             ],
             [
              0.7777777777777778,
              "#fb9f3a"
             ],
             [
              0.8888888888888888,
              "#fdca26"
             ],
             [
              1,
              "#f0f921"
             ]
            ],
            "type": "heatmap"
           }
          ],
          "heatmapgl": [
           {
            "colorbar": {
             "outlinewidth": 0,
             "ticks": ""
            },
            "colorscale": [
             [
              0,
              "#0d0887"
             ],
             [
              0.1111111111111111,
              "#46039f"
             ],
             [
              0.2222222222222222,
              "#7201a8"
             ],
             [
              0.3333333333333333,
              "#9c179e"
             ],
             [
              0.4444444444444444,
              "#bd3786"
             ],
             [
              0.5555555555555556,
              "#d8576b"
             ],
             [
              0.6666666666666666,
              "#ed7953"
             ],
             [
              0.7777777777777778,
              "#fb9f3a"
             ],
             [
              0.8888888888888888,
              "#fdca26"
             ],
             [
              1,
              "#f0f921"
             ]
            ],
            "type": "heatmapgl"
           }
          ],
          "histogram": [
           {
            "marker": {
             "pattern": {
              "fillmode": "overlay",
              "size": 10,
              "solidity": 0.2
             }
            },
            "type": "histogram"
           }
          ],
          "histogram2d": [
           {
            "colorbar": {
             "outlinewidth": 0,
             "ticks": ""
            },
            "colorscale": [
             [
              0,
              "#0d0887"
             ],
             [
              0.1111111111111111,
              "#46039f"
             ],
             [
              0.2222222222222222,
              "#7201a8"
             ],
             [
              0.3333333333333333,
              "#9c179e"
             ],
             [
              0.4444444444444444,
              "#bd3786"
             ],
             [
              0.5555555555555556,
              "#d8576b"
             ],
             [
              0.6666666666666666,
              "#ed7953"
             ],
             [
              0.7777777777777778,
              "#fb9f3a"
             ],
             [
              0.8888888888888888,
              "#fdca26"
             ],
             [
              1,
              "#f0f921"
             ]
            ],
            "type": "histogram2d"
           }
          ],
          "histogram2dcontour": [
           {
            "colorbar": {
             "outlinewidth": 0,
             "ticks": ""
            },
            "colorscale": [
             [
              0,
              "#0d0887"
             ],
             [
              0.1111111111111111,
              "#46039f"
             ],
             [
              0.2222222222222222,
              "#7201a8"
             ],
             [
              0.3333333333333333,
              "#9c179e"
             ],
             [
              0.4444444444444444,
              "#bd3786"
             ],
             [
              0.5555555555555556,
              "#d8576b"
             ],
             [
              0.6666666666666666,
              "#ed7953"
             ],
             [
              0.7777777777777778,
              "#fb9f3a"
             ],
             [
              0.8888888888888888,
              "#fdca26"
             ],
             [
              1,
              "#f0f921"
             ]
            ],
            "type": "histogram2dcontour"
           }
          ],
          "mesh3d": [
           {
            "colorbar": {
             "outlinewidth": 0,
             "ticks": ""
            },
            "type": "mesh3d"
           }
          ],
          "parcoords": [
           {
            "line": {
             "colorbar": {
              "outlinewidth": 0,
              "ticks": ""
             }
            },
            "type": "parcoords"
           }
          ],
          "pie": [
           {
            "automargin": true,
            "type": "pie"
           }
          ],
          "scatter": [
           {
            "marker": {
             "colorbar": {
              "outlinewidth": 0,
              "ticks": ""
             }
            },
            "type": "scatter"
           }
          ],
          "scatter3d": [
           {
            "line": {
             "colorbar": {
              "outlinewidth": 0,
              "ticks": ""
             }
            },
            "marker": {
             "colorbar": {
              "outlinewidth": 0,
              "ticks": ""
             }
            },
            "type": "scatter3d"
           }
          ],
          "scattercarpet": [
           {
            "marker": {
             "colorbar": {
              "outlinewidth": 0,
              "ticks": ""
             }
            },
            "type": "scattercarpet"
           }
          ],
          "scattergeo": [
           {
            "marker": {
             "colorbar": {
              "outlinewidth": 0,
              "ticks": ""
             }
            },
            "type": "scattergeo"
           }
          ],
          "scattergl": [
           {
            "marker": {
             "colorbar": {
              "outlinewidth": 0,
              "ticks": ""
             }
            },
            "type": "scattergl"
           }
          ],
          "scattermapbox": [
           {
            "marker": {
             "colorbar": {
              "outlinewidth": 0,
              "ticks": ""
             }
            },
            "type": "scattermapbox"
           }
          ],
          "scatterpolar": [
           {
            "marker": {
             "colorbar": {
              "outlinewidth": 0,
              "ticks": ""
             }
            },
            "type": "scatterpolar"
           }
          ],
          "scatterpolargl": [
           {
            "marker": {
             "colorbar": {
              "outlinewidth": 0,
              "ticks": ""
             }
            },
            "type": "scatterpolargl"
           }
          ],
          "scatterternary": [
           {
            "marker": {
             "colorbar": {
              "outlinewidth": 0,
              "ticks": ""
             }
            },
            "type": "scatterternary"
           }
          ],
          "surface": [
           {
            "colorbar": {
             "outlinewidth": 0,
             "ticks": ""
            },
            "colorscale": [
             [
              0,
              "#0d0887"
             ],
             [
              0.1111111111111111,
              "#46039f"
             ],
             [
              0.2222222222222222,
              "#7201a8"
             ],
             [
              0.3333333333333333,
              "#9c179e"
             ],
             [
              0.4444444444444444,
              "#bd3786"
             ],
             [
              0.5555555555555556,
              "#d8576b"
             ],
             [
              0.6666666666666666,
              "#ed7953"
             ],
             [
              0.7777777777777778,
              "#fb9f3a"
             ],
             [
              0.8888888888888888,
              "#fdca26"
             ],
             [
              1,
              "#f0f921"
             ]
            ],
            "type": "surface"
           }
          ],
          "table": [
           {
            "cells": {
             "fill": {
              "color": "#EBF0F8"
             },
             "line": {
              "color": "white"
             }
            },
            "header": {
             "fill": {
              "color": "#C8D4E3"
             },
             "line": {
              "color": "white"
             }
            },
            "type": "table"
           }
          ]
         },
         "layout": {
          "annotationdefaults": {
           "arrowcolor": "#2a3f5f",
           "arrowhead": 0,
           "arrowwidth": 1
          },
          "autotypenumbers": "strict",
          "coloraxis": {
           "colorbar": {
            "outlinewidth": 0,
            "ticks": ""
           }
          },
          "colorscale": {
           "diverging": [
            [
             0,
             "#8e0152"
            ],
            [
             0.1,
             "#c51b7d"
            ],
            [
             0.2,
             "#de77ae"
            ],
            [
             0.3,
             "#f1b6da"
            ],
            [
             0.4,
             "#fde0ef"
            ],
            [
             0.5,
             "#f7f7f7"
            ],
            [
             0.6,
             "#e6f5d0"
            ],
            [
             0.7,
             "#b8e186"
            ],
            [
             0.8,
             "#7fbc41"
            ],
            [
             0.9,
             "#4d9221"
            ],
            [
             1,
             "#276419"
            ]
           ],
           "sequential": [
            [
             0,
             "#0d0887"
            ],
            [
             0.1111111111111111,
             "#46039f"
            ],
            [
             0.2222222222222222,
             "#7201a8"
            ],
            [
             0.3333333333333333,
             "#9c179e"
            ],
            [
             0.4444444444444444,
             "#bd3786"
            ],
            [
             0.5555555555555556,
             "#d8576b"
            ],
            [
             0.6666666666666666,
             "#ed7953"
            ],
            [
             0.7777777777777778,
             "#fb9f3a"
            ],
            [
             0.8888888888888888,
             "#fdca26"
            ],
            [
             1,
             "#f0f921"
            ]
           ],
           "sequentialminus": [
            [
             0,
             "#0d0887"
            ],
            [
             0.1111111111111111,
             "#46039f"
            ],
            [
             0.2222222222222222,
             "#7201a8"
            ],
            [
             0.3333333333333333,
             "#9c179e"
            ],
            [
             0.4444444444444444,
             "#bd3786"
            ],
            [
             0.5555555555555556,
             "#d8576b"
            ],
            [
             0.6666666666666666,
             "#ed7953"
            ],
            [
             0.7777777777777778,
             "#fb9f3a"
            ],
            [
             0.8888888888888888,
             "#fdca26"
            ],
            [
             1,
             "#f0f921"
            ]
           ]
          },
          "colorway": [
           "#636efa",
           "#EF553B",
           "#00cc96",
           "#ab63fa",
           "#FFA15A",
           "#19d3f3",
           "#FF6692",
           "#B6E880",
           "#FF97FF",
           "#FECB52"
          ],
          "font": {
           "color": "#2a3f5f"
          },
          "geo": {
           "bgcolor": "white",
           "lakecolor": "white",
           "landcolor": "#E5ECF6",
           "showlakes": true,
           "showland": true,
           "subunitcolor": "white"
          },
          "hoverlabel": {
           "align": "left"
          },
          "hovermode": "closest",
          "mapbox": {
           "style": "light"
          },
          "paper_bgcolor": "white",
          "plot_bgcolor": "#E5ECF6",
          "polar": {
           "angularaxis": {
            "gridcolor": "white",
            "linecolor": "white",
            "ticks": ""
           },
           "bgcolor": "#E5ECF6",
           "radialaxis": {
            "gridcolor": "white",
            "linecolor": "white",
            "ticks": ""
           }
          },
          "scene": {
           "xaxis": {
            "backgroundcolor": "#E5ECF6",
            "gridcolor": "white",
            "gridwidth": 2,
            "linecolor": "white",
            "showbackground": true,
            "ticks": "",
            "zerolinecolor": "white"
           },
           "yaxis": {
            "backgroundcolor": "#E5ECF6",
            "gridcolor": "white",
            "gridwidth": 2,
            "linecolor": "white",
            "showbackground": true,
            "ticks": "",
            "zerolinecolor": "white"
           },
           "zaxis": {
            "backgroundcolor": "#E5ECF6",
            "gridcolor": "white",
            "gridwidth": 2,
            "linecolor": "white",
            "showbackground": true,
            "ticks": "",
            "zerolinecolor": "white"
           }
          },
          "shapedefaults": {
           "line": {
            "color": "#2a3f5f"
           }
          },
          "ternary": {
           "aaxis": {
            "gridcolor": "white",
            "linecolor": "white",
            "ticks": ""
           },
           "baxis": {
            "gridcolor": "white",
            "linecolor": "white",
            "ticks": ""
           },
           "bgcolor": "#E5ECF6",
           "caxis": {
            "gridcolor": "white",
            "linecolor": "white",
            "ticks": ""
           }
          },
          "title": {
           "x": 0.05
          },
          "xaxis": {
           "automargin": true,
           "gridcolor": "white",
           "linecolor": "white",
           "ticks": "",
           "title": {
            "standoff": 15
           },
           "zerolinecolor": "white",
           "zerolinewidth": 2
          },
          "yaxis": {
           "automargin": true,
           "gridcolor": "white",
           "linecolor": "white",
           "ticks": "",
           "title": {
            "standoff": 15
           },
           "zerolinecolor": "white",
           "zerolinewidth": 2
          }
         }
        },
        "title": {
         "text": "AVERAGE RENT PRICES FOR 0-3 BEDROOM APARTMENTS"
        },
        "xaxis": {
         "anchor": "y",
         "domain": [
          0,
          1
         ],
         "title": {
          "text": "PROVINCE"
         }
        },
        "yaxis": {
         "anchor": "x",
         "domain": [
          0,
          1
         ],
         "title": {
          "text": "AVERAGE RENT PRICE"
         }
        }
       }
      },
      "text/html": [
       "<div>                            <div id=\"d7017a30-797a-4866-b418-c64c8e56792a\" class=\"plotly-graph-div\" style=\"height:525px; width:100%;\"></div>            <script type=\"text/javascript\">                require([\"plotly\"], function(Plotly) {                    window.PLOTLYENV=window.PLOTLYENV || {};                                    if (document.getElementById(\"d7017a30-797a-4866-b418-c64c8e56792a\")) {                    Plotly.newPlot(                        \"d7017a30-797a-4866-b418-c64c8e56792a\",                        [{\"alignmentgroup\":\"True\",\"bingroup\":\"x\",\"histfunc\":\"sum\",\"hovertemplate\":\"bedroom=0.0<br>province=%{x}<br>sum of price=%{y}<extra></extra>\",\"legendgroup\":\"0.0\",\"marker\":{\"color\":\"#FFA15A\",\"pattern\":{\"shape\":\"\"}},\"name\":\"0.0\",\"offsetgroup\":\"0.0\",\"orientation\":\"v\",\"showlegend\":true,\"texttemplate\":\"%{value}\",\"x\":[\" AB                            \",\" BC                            \",\" ON                            \"],\"xaxis\":\"x\",\"y\":[882.7865168539325,1046.9444444444443,1245.5],\"yaxis\":\"y\",\"type\":\"histogram\"},{\"alignmentgroup\":\"True\",\"bingroup\":\"x\",\"histfunc\":\"sum\",\"hovertemplate\":\"bedroom=1.0<br>province=%{x}<br>sum of price=%{y}<extra></extra>\",\"legendgroup\":\"1.0\",\"marker\":{\"color\":\"#19d3f3\",\"pattern\":{\"shape\":\"\"}},\"name\":\"1.0\",\"offsetgroup\":\"1.0\",\"orientation\":\"v\",\"showlegend\":true,\"texttemplate\":\"%{value}\",\"x\":[\" AB                            \",\" BC                            \",\" ON                            \"],\"xaxis\":\"x\",\"y\":[1067.613924050633,1401.5573770491803,1600.82],\"yaxis\":\"y\",\"type\":\"histogram\"},{\"alignmentgroup\":\"True\",\"bingroup\":\"x\",\"histfunc\":\"sum\",\"hovertemplate\":\"bedroom=2.0<br>province=%{x}<br>sum of price=%{y}<extra></extra>\",\"legendgroup\":\"2.0\",\"marker\":{\"color\":\"#FF6692\",\"pattern\":{\"shape\":\"\"}},\"name\":\"2.0\",\"offsetgroup\":\"2.0\",\"orientation\":\"v\",\"showlegend\":true,\"texttemplate\":\"%{value}\",\"x\":[\" AB                            \",\" BC                            \",\" ON                            \"],\"xaxis\":\"x\",\"y\":[1285.652719665272,1593.2608695652175,2019.1904761904761],\"yaxis\":\"y\",\"type\":\"histogram\"},{\"alignmentgroup\":\"True\",\"bingroup\":\"x\",\"histfunc\":\"sum\",\"hovertemplate\":\"bedroom=3.0<br>province=%{x}<br>sum of price=%{y}<extra></extra>\",\"legendgroup\":\"3.0\",\"marker\":{\"color\":\"#B6E880\",\"pattern\":{\"shape\":\"\"}},\"name\":\"3.0\",\"offsetgroup\":\"3.0\",\"orientation\":\"v\",\"showlegend\":true,\"texttemplate\":\"%{value}\",\"x\":[\" AB                            \",\" BC                            \",\" ON                            \"],\"xaxis\":\"x\",\"y\":[1533.1294964028777,1876.6666666666667,2254.785714285714],\"yaxis\":\"y\",\"type\":\"histogram\"}],                        {\"template\":{\"data\":{\"bar\":[{\"error_x\":{\"color\":\"#2a3f5f\"},\"error_y\":{\"color\":\"#2a3f5f\"},\"marker\":{\"line\":{\"color\":\"#E5ECF6\",\"width\":0.5},\"pattern\":{\"fillmode\":\"overlay\",\"size\":10,\"solidity\":0.2}},\"type\":\"bar\"}],\"barpolar\":[{\"marker\":{\"line\":{\"color\":\"#E5ECF6\",\"width\":0.5},\"pattern\":{\"fillmode\":\"overlay\",\"size\":10,\"solidity\":0.2}},\"type\":\"barpolar\"}],\"carpet\":[{\"aaxis\":{\"endlinecolor\":\"#2a3f5f\",\"gridcolor\":\"white\",\"linecolor\":\"white\",\"minorgridcolor\":\"white\",\"startlinecolor\":\"#2a3f5f\"},\"baxis\":{\"endlinecolor\":\"#2a3f5f\",\"gridcolor\":\"white\",\"linecolor\":\"white\",\"minorgridcolor\":\"white\",\"startlinecolor\":\"#2a3f5f\"},\"type\":\"carpet\"}],\"choropleth\":[{\"colorbar\":{\"outlinewidth\":0,\"ticks\":\"\"},\"type\":\"choropleth\"}],\"contour\":[{\"colorbar\":{\"outlinewidth\":0,\"ticks\":\"\"},\"colorscale\":[[0.0,\"#0d0887\"],[0.1111111111111111,\"#46039f\"],[0.2222222222222222,\"#7201a8\"],[0.3333333333333333,\"#9c179e\"],[0.4444444444444444,\"#bd3786\"],[0.5555555555555556,\"#d8576b\"],[0.6666666666666666,\"#ed7953\"],[0.7777777777777778,\"#fb9f3a\"],[0.8888888888888888,\"#fdca26\"],[1.0,\"#f0f921\"]],\"type\":\"contour\"}],\"contourcarpet\":[{\"colorbar\":{\"outlinewidth\":0,\"ticks\":\"\"},\"type\":\"contourcarpet\"}],\"heatmap\":[{\"colorbar\":{\"outlinewidth\":0,\"ticks\":\"\"},\"colorscale\":[[0.0,\"#0d0887\"],[0.1111111111111111,\"#46039f\"],[0.2222222222222222,\"#7201a8\"],[0.3333333333333333,\"#9c179e\"],[0.4444444444444444,\"#bd3786\"],[0.5555555555555556,\"#d8576b\"],[0.6666666666666666,\"#ed7953\"],[0.7777777777777778,\"#fb9f3a\"],[0.8888888888888888,\"#fdca26\"],[1.0,\"#f0f921\"]],\"type\":\"heatmap\"}],\"heatmapgl\":[{\"colorbar\":{\"outlinewidth\":0,\"ticks\":\"\"},\"colorscale\":[[0.0,\"#0d0887\"],[0.1111111111111111,\"#46039f\"],[0.2222222222222222,\"#7201a8\"],[0.3333333333333333,\"#9c179e\"],[0.4444444444444444,\"#bd3786\"],[0.5555555555555556,\"#d8576b\"],[0.6666666666666666,\"#ed7953\"],[0.7777777777777778,\"#fb9f3a\"],[0.8888888888888888,\"#fdca26\"],[1.0,\"#f0f921\"]],\"type\":\"heatmapgl\"}],\"histogram\":[{\"marker\":{\"pattern\":{\"fillmode\":\"overlay\",\"size\":10,\"solidity\":0.2}},\"type\":\"histogram\"}],\"histogram2d\":[{\"colorbar\":{\"outlinewidth\":0,\"ticks\":\"\"},\"colorscale\":[[0.0,\"#0d0887\"],[0.1111111111111111,\"#46039f\"],[0.2222222222222222,\"#7201a8\"],[0.3333333333333333,\"#9c179e\"],[0.4444444444444444,\"#bd3786\"],[0.5555555555555556,\"#d8576b\"],[0.6666666666666666,\"#ed7953\"],[0.7777777777777778,\"#fb9f3a\"],[0.8888888888888888,\"#fdca26\"],[1.0,\"#f0f921\"]],\"type\":\"histogram2d\"}],\"histogram2dcontour\":[{\"colorbar\":{\"outlinewidth\":0,\"ticks\":\"\"},\"colorscale\":[[0.0,\"#0d0887\"],[0.1111111111111111,\"#46039f\"],[0.2222222222222222,\"#7201a8\"],[0.3333333333333333,\"#9c179e\"],[0.4444444444444444,\"#bd3786\"],[0.5555555555555556,\"#d8576b\"],[0.6666666666666666,\"#ed7953\"],[0.7777777777777778,\"#fb9f3a\"],[0.8888888888888888,\"#fdca26\"],[1.0,\"#f0f921\"]],\"type\":\"histogram2dcontour\"}],\"mesh3d\":[{\"colorbar\":{\"outlinewidth\":0,\"ticks\":\"\"},\"type\":\"mesh3d\"}],\"parcoords\":[{\"line\":{\"colorbar\":{\"outlinewidth\":0,\"ticks\":\"\"}},\"type\":\"parcoords\"}],\"pie\":[{\"automargin\":true,\"type\":\"pie\"}],\"scatter\":[{\"marker\":{\"colorbar\":{\"outlinewidth\":0,\"ticks\":\"\"}},\"type\":\"scatter\"}],\"scatter3d\":[{\"line\":{\"colorbar\":{\"outlinewidth\":0,\"ticks\":\"\"}},\"marker\":{\"colorbar\":{\"outlinewidth\":0,\"ticks\":\"\"}},\"type\":\"scatter3d\"}],\"scattercarpet\":[{\"marker\":{\"colorbar\":{\"outlinewidth\":0,\"ticks\":\"\"}},\"type\":\"scattercarpet\"}],\"scattergeo\":[{\"marker\":{\"colorbar\":{\"outlinewidth\":0,\"ticks\":\"\"}},\"type\":\"scattergeo\"}],\"scattergl\":[{\"marker\":{\"colorbar\":{\"outlinewidth\":0,\"ticks\":\"\"}},\"type\":\"scattergl\"}],\"scattermapbox\":[{\"marker\":{\"colorbar\":{\"outlinewidth\":0,\"ticks\":\"\"}},\"type\":\"scattermapbox\"}],\"scatterpolar\":[{\"marker\":{\"colorbar\":{\"outlinewidth\":0,\"ticks\":\"\"}},\"type\":\"scatterpolar\"}],\"scatterpolargl\":[{\"marker\":{\"colorbar\":{\"outlinewidth\":0,\"ticks\":\"\"}},\"type\":\"scatterpolargl\"}],\"scatterternary\":[{\"marker\":{\"colorbar\":{\"outlinewidth\":0,\"ticks\":\"\"}},\"type\":\"scatterternary\"}],\"surface\":[{\"colorbar\":{\"outlinewidth\":0,\"ticks\":\"\"},\"colorscale\":[[0.0,\"#0d0887\"],[0.1111111111111111,\"#46039f\"],[0.2222222222222222,\"#7201a8\"],[0.3333333333333333,\"#9c179e\"],[0.4444444444444444,\"#bd3786\"],[0.5555555555555556,\"#d8576b\"],[0.6666666666666666,\"#ed7953\"],[0.7777777777777778,\"#fb9f3a\"],[0.8888888888888888,\"#fdca26\"],[1.0,\"#f0f921\"]],\"type\":\"surface\"}],\"table\":[{\"cells\":{\"fill\":{\"color\":\"#EBF0F8\"},\"line\":{\"color\":\"white\"}},\"header\":{\"fill\":{\"color\":\"#C8D4E3\"},\"line\":{\"color\":\"white\"}},\"type\":\"table\"}]},\"layout\":{\"annotationdefaults\":{\"arrowcolor\":\"#2a3f5f\",\"arrowhead\":0,\"arrowwidth\":1},\"autotypenumbers\":\"strict\",\"coloraxis\":{\"colorbar\":{\"outlinewidth\":0,\"ticks\":\"\"}},\"colorscale\":{\"diverging\":[[0,\"#8e0152\"],[0.1,\"#c51b7d\"],[0.2,\"#de77ae\"],[0.3,\"#f1b6da\"],[0.4,\"#fde0ef\"],[0.5,\"#f7f7f7\"],[0.6,\"#e6f5d0\"],[0.7,\"#b8e186\"],[0.8,\"#7fbc41\"],[0.9,\"#4d9221\"],[1,\"#276419\"]],\"sequential\":[[0.0,\"#0d0887\"],[0.1111111111111111,\"#46039f\"],[0.2222222222222222,\"#7201a8\"],[0.3333333333333333,\"#9c179e\"],[0.4444444444444444,\"#bd3786\"],[0.5555555555555556,\"#d8576b\"],[0.6666666666666666,\"#ed7953\"],[0.7777777777777778,\"#fb9f3a\"],[0.8888888888888888,\"#fdca26\"],[1.0,\"#f0f921\"]],\"sequentialminus\":[[0.0,\"#0d0887\"],[0.1111111111111111,\"#46039f\"],[0.2222222222222222,\"#7201a8\"],[0.3333333333333333,\"#9c179e\"],[0.4444444444444444,\"#bd3786\"],[0.5555555555555556,\"#d8576b\"],[0.6666666666666666,\"#ed7953\"],[0.7777777777777778,\"#fb9f3a\"],[0.8888888888888888,\"#fdca26\"],[1.0,\"#f0f921\"]]},\"colorway\":[\"#636efa\",\"#EF553B\",\"#00cc96\",\"#ab63fa\",\"#FFA15A\",\"#19d3f3\",\"#FF6692\",\"#B6E880\",\"#FF97FF\",\"#FECB52\"],\"font\":{\"color\":\"#2a3f5f\"},\"geo\":{\"bgcolor\":\"white\",\"lakecolor\":\"white\",\"landcolor\":\"#E5ECF6\",\"showlakes\":true,\"showland\":true,\"subunitcolor\":\"white\"},\"hoverlabel\":{\"align\":\"left\"},\"hovermode\":\"closest\",\"mapbox\":{\"style\":\"light\"},\"paper_bgcolor\":\"white\",\"plot_bgcolor\":\"#E5ECF6\",\"polar\":{\"angularaxis\":{\"gridcolor\":\"white\",\"linecolor\":\"white\",\"ticks\":\"\"},\"bgcolor\":\"#E5ECF6\",\"radialaxis\":{\"gridcolor\":\"white\",\"linecolor\":\"white\",\"ticks\":\"\"}},\"scene\":{\"xaxis\":{\"backgroundcolor\":\"#E5ECF6\",\"gridcolor\":\"white\",\"gridwidth\":2,\"linecolor\":\"white\",\"showbackground\":true,\"ticks\":\"\",\"zerolinecolor\":\"white\"},\"yaxis\":{\"backgroundcolor\":\"#E5ECF6\",\"gridcolor\":\"white\",\"gridwidth\":2,\"linecolor\":\"white\",\"showbackground\":true,\"ticks\":\"\",\"zerolinecolor\":\"white\"},\"zaxis\":{\"backgroundcolor\":\"#E5ECF6\",\"gridcolor\":\"white\",\"gridwidth\":2,\"linecolor\":\"white\",\"showbackground\":true,\"ticks\":\"\",\"zerolinecolor\":\"white\"}},\"shapedefaults\":{\"line\":{\"color\":\"#2a3f5f\"}},\"ternary\":{\"aaxis\":{\"gridcolor\":\"white\",\"linecolor\":\"white\",\"ticks\":\"\"},\"baxis\":{\"gridcolor\":\"white\",\"linecolor\":\"white\",\"ticks\":\"\"},\"bgcolor\":\"#E5ECF6\",\"caxis\":{\"gridcolor\":\"white\",\"linecolor\":\"white\",\"ticks\":\"\"}},\"title\":{\"x\":0.05},\"xaxis\":{\"automargin\":true,\"gridcolor\":\"white\",\"linecolor\":\"white\",\"ticks\":\"\",\"title\":{\"standoff\":15},\"zerolinecolor\":\"white\",\"zerolinewidth\":2},\"yaxis\":{\"automargin\":true,\"gridcolor\":\"white\",\"linecolor\":\"white\",\"ticks\":\"\",\"title\":{\"standoff\":15},\"zerolinecolor\":\"white\",\"zerolinewidth\":2}}},\"xaxis\":{\"anchor\":\"y\",\"domain\":[0.0,1.0],\"title\":{\"text\":\"PROVINCE\"}},\"yaxis\":{\"anchor\":\"x\",\"domain\":[0.0,1.0],\"title\":{\"text\":\"AVERAGE RENT PRICE\"}},\"legend\":{\"title\":{\"text\":\"BEDROOM SIZE\"},\"tracegroupgap\":0},\"margin\":{\"t\":60},\"barmode\":\"group\",\"font\":{\"size\":13},\"title\":{\"text\":\"AVERAGE RENT PRICES FOR 0-3 BEDROOM APARTMENTS\"},\"paper_bgcolor\":\"rgba(0,0,0,0)\",\"plot_bgcolor\":\"rgba(0,0,0,0)\"},                        {\"responsive\": true}                    ).then(function(){\n",
       "                            \n",
       "var gd = document.getElementById('d7017a30-797a-4866-b418-c64c8e56792a');\n",
       "var x = new MutationObserver(function (mutations, observer) {{\n",
       "        var display = window.getComputedStyle(gd).display;\n",
       "        if (!display || display === 'none') {{\n",
       "            console.log([gd, 'removed!']);\n",
       "            Plotly.purge(gd);\n",
       "            observer.disconnect();\n",
       "        }}\n",
       "}});\n",
       "\n",
       "// Listen for the removal of the full notebook cells\n",
       "var notebookContainer = gd.closest('#notebook-container');\n",
       "if (notebookContainer) {{\n",
       "    x.observe(notebookContainer, {childList: true});\n",
       "}}\n",
       "\n",
       "// Listen for the clearing of the current output cell\n",
       "var outputEl = gd.closest('.output');\n",
       "if (outputEl) {{\n",
       "    x.observe(outputEl, {childList: true});\n",
       "}}\n",
       "\n",
       "                        })                };                });            </script>        </div>"
      ]
     },
     "metadata": {},
     "output_type": "display_data"
    },
    {
     "data": {
      "text/plain": [
       "<Figure size 72x72 with 0 Axes>"
      ]
     },
     "metadata": {},
     "output_type": "display_data"
    }
   ],
   "source": [
    "table1 = apartments.groupby(['province','bedroom'], as_index=False)['price'].mean()\n",
    "plt.figure(figsize=(1,1))\n",
    "fig=px.histogram(data_frame=pivot2, x='province',y ='price', color='bedroom', barmode=\"group\",text_auto=True,color_discrete_map={\n",
    "                \"0.0\": \"gold\",\n",
    "                \"1.0\": \"bronze\",\n",
    "                \"2.0\": \"blue\",\n",
    "                \"3.0\": \"goldenrod\"})\n",
    "\n",
    "fig.update_layout(\n",
    "    title='AVERAGE RENT PRICES FOR 0-3 BEDROOM APARTMENTS',\n",
    "    xaxis_title='PROVINCE',\n",
    "    yaxis_title='AVERAGE RENT PRICE',\n",
    "    legend_title='BEDROOM SIZE',\n",
    "    paper_bgcolor=\"rgba(0,0,0,0)\",  ## Sets the background to white\n",
    "    plot_bgcolor=\"rgba(0,0,0,0)\",   ## Sets the background of the plot to white/clear\n",
    "    font_size=13,\n",
    ")\n",
    "fig.show()"
   ]
  },
  {
   "cell_type": "code",
   "execution_count": 51,
   "id": "7bc6304c",
   "metadata": {},
   "outputs": [
    {
     "data": {
      "text/plain": [
       "'https://plotly.com/~janice.gbedemah/1/'"
      ]
     },
     "execution_count": 51,
     "metadata": {},
     "output_type": "execute_result"
    }
   ],
   "source": [
    "py.plot(fig, filename=\"housing affordability study\", auto_open=True) ## This saves the plot to your account and can be retrieved online"
   ]
  }
 ],
 "metadata": {
  "kernelspec": {
   "display_name": "Python 3 (ipykernel)",
   "language": "python",
   "name": "python3"
  },
  "language_info": {
   "codemirror_mode": {
    "name": "ipython",
    "version": 3
   },
   "file_extension": ".py",
   "mimetype": "text/x-python",
   "name": "python",
   "nbconvert_exporter": "python",
   "pygments_lexer": "ipython3",
   "version": "3.9.12"
  }
 },
 "nbformat": 4,
 "nbformat_minor": 5
}
